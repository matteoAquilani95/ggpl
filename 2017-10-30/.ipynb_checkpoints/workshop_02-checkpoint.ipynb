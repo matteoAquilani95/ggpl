{
 "cells": [
  {
   "cell_type": "markdown",
   "metadata": {},
   "source": [
    "WORKSHOP 02\n",
    "======="
   ]
  },
  {
   "cell_type": "markdown",
   "metadata": {},
   "source": [
    "1° OGGETTO : BILLY libreria\n",
    "----------------\n",
    "link: http://www.ikea.com/it/it/catalog/products/S49217748/\n",
    "\n",
    "Variabili: <p>\n",
    "scaf1 = scaffale che verrà ripetuto piu volte <p>\n",
    "scaftot = tiene conto di tutti gli scaffali che mi servono <p>\n",
    "retro = crea la schiena del mobile <p>\n",
    "lato = crea un lato del mobile <p>\n",
    "base = crea la base del mobile <p>\n",
    "struttura = assembla tutti i pezzi <p>"
   ]
  },
  {
   "cell_type": "code",
   "execution_count": 84,
   "metadata": {
    "collapsed": true
   },
   "outputs": [
    {
     "data": {
      "text/plain": [
       "<pyplasm.xgepy.Hpc; proxy of <Swig Object of type 'std::shared_ptr< Hpc > *' at 0x000000001C994BD0> >"
      ]
     },
     "execution_count": 84,
     "metadata": {},
     "output_type": "execute_result"
    }
   ],
   "source": [
    "from larlib import *\n",
    "\n",
    "#prima struttura\n",
    "scaf1 = HEX(\"#ffe4b5\")(CUBOID([1,3,0.1]));\n",
    "scaftot = STRUCT([T(3)(0.5),scaf1,T(3)(1),scaf1,T(3)(1),scaf1,T(3)(1),scaf1,T(3)(1),scaf1,T(3)(1),scaf1, T(3)(1), scaf1, T(3)(1), scaf1, T(3)(1), scaf1])\n",
    "retro = HEX(\"#ffe4b5\")(CUBOID([0.1,3,8.5]))\n",
    "lato = HEX(\"#ffe4b5\")(CUBOID([1,0.1,8.5]))\n",
    "base = HEX(\"#ffe4b5\")(CUBOID([0.85,3,0.5]))\n",
    "struttura = STRUCT([base,retro,scaftot,lato,T(2)(2.9),lato])\n",
    "VIEW(struttura)\n"
   ]
  },
  {
   "cell_type": "markdown",
   "metadata": {
    "collapsed": true
   },
   "source": [
    "Photo\n",
    "------"
   ]
  },
  {
   "cell_type": "markdown",
   "metadata": {},
   "source": [
    "![Billy mobile singolo](figure/mobile1.png)"
   ]
  },
  {
   "cell_type": "markdown",
   "metadata": {},
   "source": [
    "2 ° OGGETTO: BILLY libreria composta\n",
    "--------------\n",
    "link: http://www.ikea.com/it/it/catalog/products/S69023400/\n",
    "\n",
    "Variabili: <p>\n",
    "scaf2 = scaffale che verrà ripetuto piu volte <p>\n",
    "structScaf = tiene conto di tutti gli scaffali che mi servono <p>\n",
    "retro2 = crea la schiena del mobile <p>\n",
    "struttura2 = assembla tutti i pezzi <p>\n",
    "strutturaCompleta = assembla insieme struttura1 e struttura2 <p>"
   ]
  },
  {
   "cell_type": "code",
   "execution_count": 85,
   "metadata": {
    "collapsed": true
   },
   "outputs": [
    {
     "data": {
      "text/plain": [
       "<pyplasm.xgepy.Hpc; proxy of <Swig Object of type 'std::shared_ptr< Hpc > *' at 0x000000001C994D50> >"
      ]
     },
     "execution_count": 85,
     "metadata": {},
     "output_type": "execute_result"
    }
   ],
   "source": [
    "#seconda struttura\n",
    "scaf2 = HEX(\"#ffe4b5\") (CUBOID([1,1.5,0.1]))\n",
    "retro2 = HEX(\"#ffe4b5\") (CUBOID([0.1,1.5,8.5]))\n",
    "base2 = HEX(\"#ffe4b5\") (CUBOID([0.85,1.5,0.5]))\n",
    "structScaf = STRUCT([T(3)(0.5),scaf2,T(3)(1),scaf2,T(3)(1),scaf2,T(3)(1),scaf2,T(3)(1),scaf2,T(3)(1),scaf2,T(3)(1),scaf2,T(3)(1),scaf2,T(3)(1),scaf2])\n",
    "struttura2 = STRUCT([base2,retro2,structScaf,lato,T(2)(1.4),lato])\n",
    "\n",
    "strutturaCompleta = STRUCT([struttura,T(2)(2.9),struttura2,T(2)(1.4),struttura])\n",
    "VIEW(strutturaCompleta)"
   ]
  },
  {
   "cell_type": "markdown",
   "metadata": {},
   "source": [
    "![Billy mobile 2](figure/mobile2.png)"
   ]
  },
  {
   "cell_type": "code",
   "execution_count": null,
   "metadata": {
    "collapsed": true
   },
   "outputs": [],
   "source": []
  }
 ],
 "metadata": {
  "kernelspec": {
   "display_name": "Python 2",
   "language": "python",
   "name": "python2"
  },
  "language_info": {
   "codemirror_mode": {
    "name": "ipython",
    "version": 2
   },
   "file_extension": ".py",
   "mimetype": "text/x-python",
   "name": "python",
   "nbconvert_exporter": "python",
   "pygments_lexer": "ipython2",
   "version": "2.7.13"
  }
 },
 "nbformat": 4,
 "nbformat_minor": 2
}
