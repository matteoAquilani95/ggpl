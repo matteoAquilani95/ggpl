{
 "cells": [
  {
   "cell_type": "markdown",
   "metadata": {},
   "source": [
    "Workshop 1\n",
    "==========\n",
    "2017/10/23\n",
    "\n",
    "1° Table Model\n",
    "---------------------------"
   ]
  },
  {
   "cell_type": "markdown",
   "metadata": {},
   "source": [
    "PLaSM CLASSIC\n",
    "---------------\n"
   ]
  },
  {
   "cell_type": "code",
   "execution_count": null,
   "metadata": {
    "collapsed": true
   },
   "outputs": [],
   "source": [
    "Script 1.5.3 (Table model)\n",
    "DEF Leg = CUBOID:< 0.1,0.1,0.7 >; \n",
    "DEF Plane = CUBOID:< 1, 1, 0.2>; \n",
    "DEF Table = STRUCT:<Leg, T:1:0.9, Leg, T:2:0.9, Leg, T:1:-0.9, Leg,T:<2,3>:<-0.9,0.7>, Plane >;\n",
    "DEF Table1 = STRUCT:<Leg, T:1:0.9:Leg, T:<1,2>:<0.9,0.9>:Leg, T:2:0.9:Leg, T:3:0.7:Plane >; \n",
    "VRML: Table:out.wrl;"
   ]
  },
  {
   "cell_type": "markdown",
   "metadata": {},
   "source": [
    "PyPlasm\n",
    "--------"
   ]
  },
  {
   "cell_type": "code",
   "execution_count": 1,
   "metadata": {
    "collapsed": true
   },
   "outputs": [
    {
     "name": "stdout",
     "output_type": "stream",
     "text": [
      "Evaluating fenvs.py..\n",
      "...fenvs.py imported in 0.252920121949 seconds\n"
     ]
    },
    {
     "data": {
      "text/plain": [
       "<pyplasm.xgepy.Hpc; proxy of <Swig Object of type 'std::shared_ptr< Hpc > *' at 0x000000000609F300> >"
      ]
     },
     "execution_count": 1,
     "metadata": {},
     "output_type": "execute_result"
    }
   ],
   "source": [
    "from larlib import *\n",
    "def Leg() :\n",
    "    return CUBOID([0.1,0.1,0.7])\n",
    "def Plane():\n",
    "     return CUBOID([1,1,0.2])\n",
    "def Table() : \n",
    "    return STRUCT([Leg(), T(1)(0.9), Leg(), T(2)(0.9), Leg(), T(1)(-0.9), Leg(),T([2,3])([-0.9,0.7]), \n",
    "                  Plane()]);\n",
    "def Table1() : \n",
    "    return STRUCT([Leg(), T(1)(0.9)(Leg()), T([1,2])([0.9,0.9])(Leg()), T(2)(0.9)(Leg()), T(3)(0.7)(Plane())])\n",
    "\n",
    "VIEW(Table())"
   ]
  },
  {
   "cell_type": "markdown",
   "metadata": {},
   "source": [
    "Photo\n",
    "------"
   ]
  },
  {
   "cell_type": "markdown",
   "metadata": {},
   "source": [
    "![tavolo unitario](figure/tavolo.png)"
   ]
  },
  {
   "cell_type": "markdown",
   "metadata": {},
   "source": [
    "2 ° Boolean operations beetween cubes\n",
    "================\n",
    "\n",
    "PLaSM CLASSIC\n",
    "---------------"
   ]
  },
  {
   "cell_type": "code",
   "execution_count": null,
   "metadata": {
    "collapsed": true
   },
   "outputs": [],
   "source": [
    "DEF a = T:<1,2>:<-0.5,-0.5>:(CUBOID:<1,1,1>);\n",
    "DEF b = R:<1,2>:(PI/4):a;\n",
    "STRUCT:< a + b, T:1:2, a & b, T:1:2, a ∧ b, T:1:2, a - b >;"
   ]
  },
  {
   "cell_type": "markdown",
   "metadata": {},
   "source": [
    "PyPlasm\n",
    "--------"
   ]
  },
  {
   "cell_type": "code",
   "execution_count": 81,
   "metadata": {},
   "outputs": [
    {
     "data": {
      "text/plain": [
       "<pyplasm.xgepy.Hpc; proxy of <Swig Object of type 'std::shared_ptr< Hpc > *' at 0x000000001F56D840> >"
      ]
     },
     "execution_count": 81,
     "metadata": {},
     "output_type": "execute_result"
    }
   ],
   "source": [
    "a = T([1,2])([-0.5,-0.5])((CUBOID([1,1,1])))\n",
    "b = R([1,2])(PI/4)(a)\n",
    "form = STRUCT([UNION([a,b]), T(1)(2), INTERSECTION([a,b]), T(1)(2), XOR([a,b]), T(1)(2), DIFFERENCE([a,b])])\n",
    "VIEW(form)"
   ]
  },
  {
   "cell_type": "markdown",
   "metadata": {},
   "source": [
    "Photo\n",
    "-------"
   ]
  },
  {
   "cell_type": "markdown",
   "metadata": {},
   "source": [
    "![operazione tra cubi](figure/booleanOperations.png)"
   ]
  },
  {
   "cell_type": "markdown",
   "metadata": {},
   "source": [
    "3° Table Model 2\n",
    "================\n",
    "\n",
    "PLaSM CLASSIC\n",
    "-------------"
   ]
  },
  {
   "cell_type": "code",
   "execution_count": null,
   "metadata": {
    "collapsed": true
   },
   "outputs": [],
   "source": [
    "DEF legs = Q:< 0.1,-0.8,0.1 > * Q:< 0.1,-0.8,0.1 > * Q:0.7;\n",
    "DEF plane = Q:1 * Q:1 * Q:0.2;\n",
    "DEF table = Legs TOP Plane;\n",
    "DEF chair = S:<1,2,3>:<0.4,0.4,0.5>:Table;\n",
    "DEF assembly = chair RIGHT table RIGHT chair UP chair DOWN chair\n",
    "VRML:assembly:out.wrl"
   ]
  },
  {
   "cell_type": "markdown",
   "metadata": {},
   "source": [
    "PyPlasm\n",
    "-------"
   ]
  },
  {
   "cell_type": "code",
   "execution_count": 17,
   "metadata": {
    "collapsed": true
   },
   "outputs": [
    {
     "data": {
      "text/plain": [
       "<pyplasm.xgepy.Hpc; proxy of <Swig Object of type 'std::shared_ptr< Hpc > *' at 0x000000001CDD9990> >"
      ]
     },
     "execution_count": 17,
     "metadata": {},
     "output_type": "execute_result"
    }
   ],
   "source": [
    "legs = INSR(PROD)([QUOTE([0.1,-0.8,0.1]), QUOTE([0.1,-0.8,0.1]),QUOTE([0.7])])\n",
    "plane = INSR(PROD)([QUOTE([1]), QUOTE([1]), QUOTE([0.2])])\n",
    "table = TOP([legs,plane])\n",
    "chair = S([1,2,3])([0.4,0.4,0.5])(table)\n",
    "assembly = DOWN([UP([RIGHT([RIGHT([chair,table]), chair]), chair]), chair])\n",
    "VIEW(assembly)"
   ]
  },
  {
   "cell_type": "markdown",
   "metadata": {},
   "source": [
    "N.B. non vengono visualizzate bene le sedie\n",
    "\n",
    "Photo\n",
    "------"
   ]
  },
  {
   "cell_type": "markdown",
   "metadata": {},
   "source": [
    "![Tavolo con sedie](figure/Tavolo2.png)"
   ]
  },
  {
   "cell_type": "code",
   "execution_count": null,
   "metadata": {
    "collapsed": true
   },
   "outputs": [],
   "source": []
  }
 ],
 "metadata": {
  "kernelspec": {
   "display_name": "Python 2",
   "language": "python",
   "name": "python2"
  },
  "language_info": {
   "codemirror_mode": {
    "name": "ipython",
    "version": 2
   },
   "file_extension": ".py",
   "mimetype": "text/x-python",
   "name": "python",
   "nbconvert_exporter": "python",
   "pygments_lexer": "ipython2",
   "version": "2.7.13"
  }
 },
 "nbformat": 4,
 "nbformat_minor": 2
}
